{
 "cells": [
  {
   "cell_type": "code",
   "execution_count": 116,
   "id": "75c40c74",
   "metadata": {},
   "outputs": [],
   "source": [
    "import os\n",
    "from bs4 import BeautifulSoup, Comment\n",
    "import asyncio\n",
    "from playwright.async_api import async_playwright, TimeoutError as PlaywrightTimeout\n",
    "import time\n",
    "import re\n",
    "import pandas as pd\n",
    "import numpy as np\n",
    "from datetime import datetime\n",
    "from tqdm import tqdm\n",
    "import requests"
   ]
  },
  {
   "cell_type": "code",
   "execution_count": 117,
   "id": "512809de",
   "metadata": {},
   "outputs": [],
   "source": [
    "from sklearn import tree\n",
    "from sklearn.model_selection import train_test_split\n",
    "from sklearn.linear_model import LogisticRegression\n",
    "from sklearn.metrics import confusion_matrix, classification_report\n",
    "from imblearn.over_sampling import SMOTE\n",
    "from sklearn.model_selection import KFold\n"
   ]
  },
  {
   "cell_type": "code",
   "execution_count": 118,
   "id": "118ffe4d",
   "metadata": {},
   "outputs": [],
   "source": [
    "def logo(team):\n",
    "    abbrev = ABBREV[team.strip()]\n",
    "    return f'https://a.espncdn.com/i/teamlogos/nba/500/{abbrev}.png'"
   ]
  },
  {
   "cell_type": "code",
   "execution_count": 119,
   "id": "a1e598c5",
   "metadata": {},
   "outputs": [],
   "source": [
    "def name(url):\n",
    "    url = url.replace('-','_')\n",
    "    return url.split('/')[-1]"
   ]
  },
  {
   "cell_type": "code",
   "execution_count": 120,
   "id": "b5af426b",
   "metadata": {},
   "outputs": [],
   "source": [
    "def name_csv(url):\n",
    "    temp = name(url)\n",
    "    temp = temp.replace('html','csv')\n",
    "    return temp"
   ]
  },
  {
   "cell_type": "code",
   "execution_count": 121,
   "id": "efe7f2be",
   "metadata": {},
   "outputs": [],
   "source": [
    "def save(link,directory,sleep=10,name=name):\n",
    "    save_path = os.path.join(directory, name(link))\n",
    "    if not(os.path.exists(save_path)):\n",
    "        time.sleep(sleep)\n",
    "        response = requests.get(link)\n",
    "        text = response.text\n",
    "        with open(save_path, \"w+\") as f:\n",
    "            f.write(text)\n",
    "    else :\n",
    "        with open(save_path, 'r') as f:\n",
    "            text = f.read()\n",
    "    return text"
   ]
  },
  {
   "cell_type": "code",
   "execution_count": 122,
   "id": "55ad0515",
   "metadata": {},
   "outputs": [],
   "source": [
    "def save_tag(link,directory,tag,sleep=10,name=name):\n",
    "    save_path = os.path.join(directory, name(link))\n",
    "    if not(os.path.exists(save_path)):\n",
    "        response = requests.get(link)\n",
    "        text = response.text\n",
    "        bs = BeautifulSoup(text, 'html.parser')\n",
    "        text = bs.find(id = tag)\n",
    "        time.sleep(sleep)\n",
    "        with open(save_path, \"w+\") as f:\n",
    "            f.write(str(text))\n",
    "    else :\n",
    "        with open(save_path, 'r') as f:\n",
    "            text = f.read()\n",
    "    return text"
   ]
  },
  {
   "cell_type": "code",
   "execution_count": 123,
   "id": "f37510d5",
   "metadata": {},
   "outputs": [],
   "source": [
    "async def savePath(link,directory,name,tag):\n",
    "    save_path = os.path.join(directory, name(link))\n",
    "    if not(os.path.exists(save_path)):\n",
    "        html = await get_html(link, tag);\n",
    "        with open(save_path, \"w+\") as f:\n",
    "            f.write(html)\n",
    "    else :\n",
    "        with open(save_path, 'r') as f:\n",
    "            html = f.read()\n",
    "    return html"
   ]
  },
  {
   "cell_type": "code",
   "execution_count": 124,
   "id": "d5c6d3d4",
   "metadata": {},
   "outputs": [],
   "source": [
    "def getSeed(string):\n",
    "    return int(string[string.find('(')+1:string.find(')')])\n",
    "def getTeam(string):\n",
    "    return string[:string.find('(')]"
   ]
  },
  {
   "cell_type": "code",
   "execution_count": 125,
   "id": "6bae4b4d",
   "metadata": {},
   "outputs": [],
   "source": [
    "def pbp(url):\n",
    "    print(url)\n",
    "    text = save(url,DIR)\n",
    "    bs = BeautifulSoup(text, 'html.parser')\n",
    "    summaries = bs.find(id = 'div_other_scores')\n",
    "    boxes = [BASE + tag['href'] for tag in summaries.find_all('a') if \"box\" in tag['href']]\n",
    "    return [url.replace('boxscores', 'boxscores/pbp') for url in boxes]"
   ]
  },
  {
   "cell_type": "code",
   "execution_count": 126,
   "id": "7e24c02f",
   "metadata": {},
   "outputs": [],
   "source": [
    "def getImg(url,home=True):\n",
    "    text = save(url,DIR2)\n",
    "    bs = BeautifulSoup(text, 'html.parser')\n",
    "    summaries = bs.find(id = 'content')\n",
    "    arr = summaries.find_all('img')\n",
    "    ret = arr[1]['src'] if home else arr[0]['src']\n",
    "    return ret"
   ]
  },
  {
   "cell_type": "code",
   "execution_count": 127,
   "id": "95963fda",
   "metadata": {},
   "outputs": [],
   "source": [
    "def getScore(url,game,winner=True):\n",
    "    class_ = 'winner' if winner else 'loser'\n",
    "    text = save(url,DIR)\n",
    "    bs = BeautifulSoup(text, 'html.parser')\n",
    "    summaries = bs.find(id = 'div_other_scores')\n",
    "    return int(summaries.find_all('tr', class_=class_)[game-1].find('td', class_='right').text)"
   ]
  },
  {
   "cell_type": "code",
   "execution_count": 128,
   "id": "d8a73fa2",
   "metadata": {},
   "outputs": [],
   "source": [
    "def seriesSum(url,games):\n",
    "    [w,l] = [0,0]\n",
    "    for i in range(games):\n",
    "        w += getScore(url,i,True)\n",
    "        l += getScore(url,i,False)\n",
    "    return [w,l]"
   ]
  },
  {
   "cell_type": "code",
   "execution_count": 129,
   "id": "dc1cf5f0",
   "metadata": {},
   "outputs": [],
   "source": [
    "def mov(url,games):\n",
    "    [w,l] = seriesSum(url,games)\n",
    "    return round((w - l)/games,2)"
   ]
  },
  {
   "cell_type": "code",
   "execution_count": 130,
   "id": "ff94c99d",
   "metadata": {},
   "outputs": [],
   "source": [
    "def home(url,team):\n",
    "    text = save(url,DIR)\n",
    "    bs = BeautifulSoup(text, 'html.parser')\n",
    "    tags = bs.h2.find_all('a')\n",
    "    names = [tag.text for tag in tags]\n",
    "    return team.strip() == names[1]"
   ]
  },
  {
   "cell_type": "code",
   "execution_count": 131,
   "id": "a166d965",
   "metadata": {},
   "outputs": [],
   "source": [
    "def statsString(url):\n",
    "    text = save(url,DIR2)\n",
    "    bs = BeautifulSoup(text, 'html.parser')\n",
    "    stats = bs.find(id = 'all_game-summary')\n",
    "    return str(stats)"
   ]
  },
  {
   "cell_type": "code",
   "execution_count": 132,
   "id": "d40c83a6",
   "metadata": {},
   "outputs": [],
   "source": [
    "def ties(url):\n",
    "    string = statsString(url)\n",
    "    i = string.find('Ties<')\n",
    "    ties = string[i:string.find('</td>',i)+1]\n",
    "    return int(re.search(r'>(\\d+)<', ties).group(1))"
   ]
  },
  {
   "cell_type": "code",
   "execution_count": 133,
   "id": "01153c66",
   "metadata": {},
   "outputs": [],
   "source": [
    "def leads(url):\n",
    "    string = statsString(url)\n",
    "    i = string.find('Lead changes<')\n",
    "    leads = string[i:string.find('</td>',i)+1]\n",
    "    return int(re.search(r'>(\\d+)<', leads).group(1))"
   ]
  },
  {
   "cell_type": "code",
   "execution_count": 134,
   "id": "57916459",
   "metadata": {},
   "outputs": [],
   "source": [
    "def convertTime(string):\n",
    "    parts = string.split(':')\n",
    "    minutes = int(parts[0])\n",
    "    seconds = float(parts[1])\n",
    "    return pd.to_timedelta(minutes, unit='m') + pd.to_timedelta(seconds, unit='s')"
   ]
  },
  {
   "cell_type": "code",
   "execution_count": 135,
   "id": "27f745c1",
   "metadata": {},
   "outputs": [],
   "source": [
    "def tied(url,convert=True):\n",
    "    string = statsString(url)\n",
    "    i = string.find('Game tied')\n",
    "    tied = string[i:string.find('</td>',i)+1]\n",
    "    ret = re.search(r'\\b\\d+:\\d+\\.\\d+\\b', tied).group(0)\n",
    "    return convertTime(ret) if convert else ret"
   ]
  },
  {
   "cell_type": "code",
   "execution_count": 136,
   "id": "14c75f12",
   "metadata": {},
   "outputs": [],
   "source": [
    "def awayLed(url,convert = True):\n",
    "    string = statsString(url)\n",
    "    i = string.find('led')\n",
    "    tied = string[i:string.find('</td>',i)+1]\n",
    "    ret = re.search(r'\\b\\d+:\\d+\\.\\d+\\b', tied).group(0)\n",
    "    return convertTime(ret) if convert else ret"
   ]
  },
  {
   "cell_type": "code",
   "execution_count": 137,
   "id": "720dd7ed",
   "metadata": {},
   "outputs": [],
   "source": [
    "def homeLed(url,convert = True):\n",
    "    string = statsString(url)\n",
    "    j = string.find('led')\n",
    "    i = string.find('led',j+1)\n",
    "    tied = string[i:string.find('</td>',i)+1]\n",
    "    ret = re.search(r'\\b\\d+:\\d+\\.\\d+\\b', tied).group(0)\n",
    "    return convertTime(ret) if convert else ret"
   ]
  },
  {
   "cell_type": "code",
   "execution_count": 138,
   "id": "c7ddce06",
   "metadata": {},
   "outputs": [],
   "source": [
    "def addPBP(df,game):\n",
    "    full = df.copy()\n",
    "    col = f'g{game}'\n",
    "    labels = [f'tie{game}',f'leads{game}',f'tied{game}',f'homeLed{game}',f'awayLed{game}']\n",
    "    funcs = [ties,leads,tied,homeLed,awayLed]\n",
    "    for i in range(len(funcs)):\n",
    "        full.insert(full.columns.get_loc(col)+i+1, labels[i], full[col].apply(funcs[i]))\n",
    "    return full"
   ]
  },
  {
   "cell_type": "code",
   "execution_count": 139,
   "id": "8d1b3e4b",
   "metadata": {},
   "outputs": [],
   "source": [
    "def seriesName(string):\n",
    "    dictionary = {\n",
    "        'Eastern Conf First Round' : 'R1',\n",
    "        'Western Conf First Round' : 'R1',\n",
    "        'Eastern Conf Semifinals' : 'R2',\n",
    "        'Western Conf Semifinals' : 'R2',\n",
    "        'Eastern Conf Finals' : 'ECF',\n",
    "        'Western Conf Finals' : 'WCF',\n",
    "        'Finals' : 'Finals'\n",
    "    }\n",
    "    return dictionary[string]"
   ]
  },
  {
   "cell_type": "code",
   "execution_count": 140,
   "id": "55668d17",
   "metadata": {},
   "outputs": [],
   "source": [
    "def zCol(df,col,label,neg=False,drop=False):\n",
    "    newCol = df.apply(lambda row: (row[col] - df[col].mean())/df[col].std(), axis=1)\n",
    "    df.insert(df.columns.get_loc(col)+1, label,newCol)\n",
    "    df.drop(columns=[label]) if drop else True\n",
    "    if neg:\n",
    "        df[label] = -df[label]\n",
    "    return df"
   ]
  },
  {
   "cell_type": "code",
   "execution_count": 141,
   "id": "6054a139",
   "metadata": {},
   "outputs": [],
   "source": [
    "def analytic(df,indexCol,cols,weights,label):\n",
    "    base = pd.DataFrame()\n",
    "    base['0'] = [0] * 60\n",
    "    for i in range(len(weights)):\n",
    "        base['0'] = base['0'] + df[cols[i]]*weights[i]\n",
    "    base['0'] = -base['0']\n",
    "    df.insert(df.columns.get_loc(indexCol)+1, label,base['0'])\n",
    "    return df"
   ]
  },
  {
   "cell_type": "code",
   "execution_count": 142,
   "id": "eb665315",
   "metadata": {},
   "outputs": [],
   "source": [
    "def year_from_url(url):\n",
    "    return int(url.split('/')[-1].split('-')[0])"
   ]
  },
  {
   "cell_type": "code",
   "execution_count": 143,
   "id": "81a08d19",
   "metadata": {},
   "outputs": [],
   "source": [
    "def mvp_from_year(year):\n",
    "    return add_mvp()['Player'][2024 - year]"
   ]
  },
  {
   "cell_type": "code",
   "execution_count": 144,
   "id": "7a440a8d",
   "metadata": {},
   "outputs": [],
   "source": [
    "def champ_from_year(year):\n",
    "    df = pd.read_csv('csvs/champions.csv')\n",
    "    return df['Team'][2024 - year]"
   ]
  },
  {
   "cell_type": "code",
   "execution_count": 145,
   "id": "f1808723",
   "metadata": {},
   "outputs": [],
   "source": [
    "def team_from_year(year):\n",
    "    return add_mvp()['Player'][2024 - year]"
   ]
  },
  {
   "cell_type": "code",
   "execution_count": 146,
   "id": "3af69d20",
   "metadata": {},
   "outputs": [],
   "source": [
    "def mvp_from_url(url):\n",
    "    return mvp_from_year(year_from_url(url))"
   ]
  },
  {
   "cell_type": "markdown",
   "id": "35e87028",
   "metadata": {},
   "source": [
    "### Visualization work:"
   ]
  },
  {
   "cell_type": "code",
   "execution_count": 147,
   "id": "c50d9a48",
   "metadata": {},
   "outputs": [],
   "source": [
    "def abbrev_from_team(team_name):\n",
    "    mapping = pd.read_csv('csvs/nba_team_ids_simple.csv')\n",
    "    row = mapping[mapping['BBRef_Team_Name'].str.contains(team_name, na=False)]\n",
    "    return row['BBRef_Team_Abbreviation'].values[0]\n"
   ]
  },
  {
   "cell_type": "code",
   "execution_count": 148,
   "id": "9d7c5900",
   "metadata": {},
   "outputs": [],
   "source": [
    "def url_from_abbrev_and_year(abbrev,year):\n",
    "    return f\"https://www.basketball-reference.com/teams/{abbrev}/{year}.html\""
   ]
  },
  {
   "cell_type": "code",
   "execution_count": 149,
   "id": "ad3dfc24",
   "metadata": {},
   "outputs": [],
   "source": [
    "def name_team(team_url):\n",
    "    return team_url.split('/')[-2]+team_url.split('/')[-1]"
   ]
  },
  {
   "cell_type": "code",
   "execution_count": 150,
   "id": "ec9fc8e9",
   "metadata": {},
   "outputs": [],
   "source": [
    "DIR3 = 'teams'\n",
    "def logo_from_url(url):\n",
    "    save_tag(url,DIR3,\"meta\",name=name_team)\n",
    "    content = BeautifulSoup(save_tag(url,DIR3,\"meta\",name=name_team))\n",
    "    return content.find('img')['src']"
   ]
  },
  {
   "cell_type": "code",
   "execution_count": 151,
   "id": "5468551c",
   "metadata": {},
   "outputs": [],
   "source": [
    "def logo_from_team_name(team_name,year):\n",
    "    abbrev = abbrev_from_team(team_name)\n",
    "    url = url_from_abbrev_and_year(abbrev,year)\n",
    "    return logo_from_url(url)"
   ]
  },
  {
   "cell_type": "code",
   "execution_count": 152,
   "id": "628241cb",
   "metadata": {},
   "outputs": [],
   "source": [
    "DIR4 = 'logos'\n",
    "def name_img(url):\n",
    "    return os.path.join(DIR4,name(url))"
   ]
  },
  {
   "cell_type": "code",
   "execution_count": 153,
   "id": "22bab684",
   "metadata": {},
   "outputs": [],
   "source": [
    "import os\n",
    "import requests\n",
    "from PIL import Image\n",
    "from io import BytesIO\n",
    "import matplotlib.pyplot as plt\n",
    "\n",
    "def fetch_image(url, local_path):\n",
    "    \"\"\"\n",
    "    Fetches an image from a URL or loads it from a local path if already downloaded.\n",
    "\n",
    "    Parameters:\n",
    "    url (str): The URL of the image.\n",
    "    local_path (str): The local path to save/load the image.\n",
    "\n",
    "    Returns:\n",
    "    PIL.Image.Image: The image object.\n",
    "    \"\"\"\n",
    "    try:\n",
    "        if os.path.exists(local_path):\n",
    "            # Load the image from the local path\n",
    "            image = Image.open(local_path)\n",
    "        else:\n",
    "            # Send a GET request to the URL\n",
    "            response = requests.get(url)\n",
    "            response.raise_for_status()  # Check if the request was successful\n",
    "\n",
    "            # Open the image from the response content\n",
    "            image = Image.open(BytesIO(response.content))\n",
    "            \n",
    "            # Save the image locally\n",
    "            image.save(local_path)\n",
    "        \n",
    "        return image\n",
    "\n",
    "    except requests.exceptions.RequestException as e:\n",
    "        print(f\"Error fetching the image: {e}\")\n",
    "        return None\n",
    "    except IOError as e:\n",
    "        print(f\"Error opening the image: {e}\")\n",
    "        return None\n",
    "\n",
    "# # Display the image using matplotlib\n",
    "# if image:\n",
    "#     plt.imshow(image)\n",
    "#     plt.axis('off')  # Hide the axes\n",
    "#     plt.show()"
   ]
  }
 ],
 "metadata": {
  "kernelspec": {
   "display_name": "Python 3 (ipykernel)",
   "language": "python",
   "name": "python3"
  },
  "language_info": {
   "codemirror_mode": {
    "name": "ipython",
    "version": 3
   },
   "file_extension": ".py",
   "mimetype": "text/x-python",
   "name": "python",
   "nbconvert_exporter": "python",
   "pygments_lexer": "ipython3",
   "version": "3.10.9"
  }
 },
 "nbformat": 4,
 "nbformat_minor": 5
}
