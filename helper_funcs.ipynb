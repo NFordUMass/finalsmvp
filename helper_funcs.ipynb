{
 "cells": [
  {
   "cell_type": "code",
   "execution_count": 2,
   "id": "75c40c74",
   "metadata": {},
   "outputs": [],
   "source": [
    "import os\n",
    "from bs4 import BeautifulSoup, Comment\n",
    "import asyncio\n",
    "from playwright.async_api import async_playwright, TimeoutError as PlaywrightTimeout\n",
    "import time\n",
    "import re\n",
    "import pandas as pd\n",
    "import numpy as np\n",
    "from datetime import datetime\n",
    "from tqdm import tqdm\n",
    "import requests"
   ]
  },
  {
   "cell_type": "code",
   "execution_count": 26,
   "id": "512809de",
   "metadata": {},
   "outputs": [],
   "source": [
    "from sklearn import tree\n",
    "from sklearn.model_selection import train_test_split\n",
    "from sklearn.linear_model import LogisticRegression\n",
    "from sklearn.metrics import confusion_matrix, classification_report\n",
    "from imblearn.over_sampling import SMOTE"
   ]
  },
  {
   "cell_type": "code",
   "execution_count": 3,
   "id": "118ffe4d",
   "metadata": {},
   "outputs": [],
   "source": [
    "def logo(team):\n",
    "    abbrev = ABBREV[team.strip()]\n",
    "    return f'https://a.espncdn.com/i/teamlogos/nba/500/{abbrev}.png'"
   ]
  },
  {
   "cell_type": "code",
   "execution_count": 4,
   "id": "a1e598c5",
   "metadata": {},
   "outputs": [],
   "source": [
    "def name(url):\n",
    "    url = url.replace('-','_')\n",
    "    return url.split('/')[-1]"
   ]
  },
  {
   "cell_type": "code",
   "execution_count": null,
   "id": "b5af426b",
   "metadata": {},
   "outputs": [],
   "source": [
    "def name_csv(url):\n",
    "    temp = name(url)\n",
    "    temp = temp.replace('html','csv')\n",
    "    return temp"
   ]
  },
  {
   "cell_type": "code",
   "execution_count": 5,
   "id": "efe7f2be",
   "metadata": {},
   "outputs": [],
   "source": [
    "def save(link,directory,sleep=10,name=name):\n",
    "    save_path = os.path.join(directory, name(link))\n",
    "    if not(os.path.exists(save_path)):\n",
    "        time.sleep(sleep)\n",
    "        response = requests.get(link);\n",
    "        text = response.text\n",
    "        with open(save_path, \"w+\") as f:\n",
    "            f.write(text)\n",
    "        print(\"fetching from web\")\n",
    "    else :\n",
    "        with open(save_path, 'r') as f:\n",
    "            text = f.read()\n",
    "        print(\"found!\")\n",
    "    return text"
   ]
  },
  {
   "cell_type": "code",
   "execution_count": 6,
   "id": "55ad0515",
   "metadata": {},
   "outputs": [],
   "source": [
    "def save_tag(link,directory,tag,sleep=10,name=name):\n",
    "    save_path = os.path.join(directory, name(link))\n",
    "    if not(os.path.exists(save_path)):\n",
    "        response = requests.get(link);\n",
    "        text = response.text\n",
    "        bs = BeautifulSoup(text, 'html.parser')\n",
    "        text = bs.find(id = tag)\n",
    "        time.sleep(sleep)\n",
    "        with open(save_path, \"w+\") as f:\n",
    "            f.write(str(text))\n",
    "    else :\n",
    "        with open(save_path, 'r') as f:\n",
    "            text = f.read()\n",
    "    return text"
   ]
  },
  {
   "cell_type": "code",
   "execution_count": 7,
   "id": "f37510d5",
   "metadata": {},
   "outputs": [],
   "source": [
    "async def savePath(link,directory,name,tag):\n",
    "    save_path = os.path.join(directory, name(link))\n",
    "    if not(os.path.exists(save_path)):\n",
    "        html = await get_html(link, tag);\n",
    "        with open(save_path, \"w+\") as f:\n",
    "            f.write(html)\n",
    "    else :\n",
    "        with open(save_path, 'r') as f:\n",
    "            html = f.read()\n",
    "    return html"
   ]
  },
  {
   "cell_type": "code",
   "execution_count": 8,
   "id": "d5c6d3d4",
   "metadata": {},
   "outputs": [],
   "source": [
    "def getSeed(string):\n",
    "    return int(string[string.find('(')+1:string.find(')')])\n",
    "def getTeam(string):\n",
    "    return string[:string.find('(')]"
   ]
  },
  {
   "cell_type": "code",
   "execution_count": 9,
   "id": "6bae4b4d",
   "metadata": {},
   "outputs": [],
   "source": [
    "def pbp(url):\n",
    "    print(url)\n",
    "    text = save(url,DIR)\n",
    "    bs = BeautifulSoup(text, 'html.parser')\n",
    "    summaries = bs.find(id = 'div_other_scores')\n",
    "    boxes = [BASE + tag['href'] for tag in summaries.find_all('a') if \"box\" in tag['href']]\n",
    "    return [url.replace('boxscores', 'boxscores/pbp') for url in boxes]"
   ]
  },
  {
   "cell_type": "code",
   "execution_count": 10,
   "id": "7e24c02f",
   "metadata": {},
   "outputs": [],
   "source": [
    "def getImg(url,home=True):\n",
    "    text = save(url,DIR2)\n",
    "    bs = BeautifulSoup(text, 'html.parser')\n",
    "    summaries = bs.find(id = 'content')\n",
    "    arr = summaries.find_all('img')\n",
    "    ret = arr[1]['src'] if home else arr[0]['src']\n",
    "    return ret"
   ]
  },
  {
   "cell_type": "code",
   "execution_count": 11,
   "id": "95963fda",
   "metadata": {},
   "outputs": [],
   "source": [
    "def getScore(url,game,winner=True):\n",
    "    class_ = 'winner' if winner else 'loser'\n",
    "    text = save(url,DIR)\n",
    "    bs = BeautifulSoup(text, 'html.parser')\n",
    "    summaries = bs.find(id = 'div_other_scores')\n",
    "    return int(summaries.find_all('tr', class_=class_)[game-1].find('td', class_='right').text)"
   ]
  },
  {
   "cell_type": "code",
   "execution_count": 12,
   "id": "d8a73fa2",
   "metadata": {},
   "outputs": [],
   "source": [
    "def seriesSum(url,games):\n",
    "    [w,l] = [0,0]\n",
    "    for i in range(games):\n",
    "        w += getScore(url,i,True)\n",
    "        l += getScore(url,i,False)\n",
    "    return [w,l]"
   ]
  },
  {
   "cell_type": "code",
   "execution_count": 13,
   "id": "dc1cf5f0",
   "metadata": {},
   "outputs": [],
   "source": [
    "def mov(url,games):\n",
    "    [w,l] = seriesSum(url,games)\n",
    "    return round((w - l)/games,2)"
   ]
  },
  {
   "cell_type": "code",
   "execution_count": 14,
   "id": "ff94c99d",
   "metadata": {},
   "outputs": [],
   "source": [
    "def home(url,team):\n",
    "    text = save(url,DIR)\n",
    "    bs = BeautifulSoup(text, 'html.parser')\n",
    "    tags = bs.h2.find_all('a')\n",
    "    names = [tag.text for tag in tags]\n",
    "    return team.strip() == names[1]"
   ]
  },
  {
   "cell_type": "code",
   "execution_count": 15,
   "id": "a166d965",
   "metadata": {},
   "outputs": [],
   "source": [
    "def statsString(url):\n",
    "    text = save(url,DIR2)\n",
    "    bs = BeautifulSoup(text, 'html.parser')\n",
    "    stats = bs.find(id = 'all_game-summary')\n",
    "    return str(stats)"
   ]
  },
  {
   "cell_type": "code",
   "execution_count": 16,
   "id": "d40c83a6",
   "metadata": {},
   "outputs": [],
   "source": [
    "def ties(url):\n",
    "    string = statsString(url)\n",
    "    i = string.find('Ties<')\n",
    "    ties = string[i:string.find('</td>',i)+1]\n",
    "    return int(re.search(r'>(\\d+)<', ties).group(1))"
   ]
  },
  {
   "cell_type": "code",
   "execution_count": 17,
   "id": "01153c66",
   "metadata": {},
   "outputs": [],
   "source": [
    "def leads(url):\n",
    "    string = statsString(url)\n",
    "    i = string.find('Lead changes<')\n",
    "    leads = string[i:string.find('</td>',i)+1]\n",
    "    return int(re.search(r'>(\\d+)<', leads).group(1))"
   ]
  },
  {
   "cell_type": "code",
   "execution_count": 18,
   "id": "57916459",
   "metadata": {},
   "outputs": [],
   "source": [
    "def convertTime(string):\n",
    "    parts = string.split(':')\n",
    "    minutes = int(parts[0])\n",
    "    seconds = float(parts[1])\n",
    "    return pd.to_timedelta(minutes, unit='m') + pd.to_timedelta(seconds, unit='s')"
   ]
  },
  {
   "cell_type": "code",
   "execution_count": 19,
   "id": "27f745c1",
   "metadata": {},
   "outputs": [],
   "source": [
    "def tied(url,convert=True):\n",
    "    string = statsString(url)\n",
    "    i = string.find('Game tied')\n",
    "    tied = string[i:string.find('</td>',i)+1]\n",
    "    ret = re.search(r'\\b\\d+:\\d+\\.\\d+\\b', tied).group(0)\n",
    "    return convertTime(ret) if convert else ret"
   ]
  },
  {
   "cell_type": "code",
   "execution_count": 20,
   "id": "14c75f12",
   "metadata": {},
   "outputs": [],
   "source": [
    "def awayLed(url,convert = True):\n",
    "    string = statsString(url)\n",
    "    i = string.find('led')\n",
    "    tied = string[i:string.find('</td>',i)+1]\n",
    "    ret = re.search(r'\\b\\d+:\\d+\\.\\d+\\b', tied).group(0)\n",
    "    return convertTime(ret) if convert else ret"
   ]
  },
  {
   "cell_type": "code",
   "execution_count": 21,
   "id": "720dd7ed",
   "metadata": {},
   "outputs": [],
   "source": [
    "def homeLed(url,convert = True):\n",
    "    string = statsString(url)\n",
    "    j = string.find('led')\n",
    "    i = string.find('led',j+1)\n",
    "    tied = string[i:string.find('</td>',i)+1]\n",
    "    ret = re.search(r'\\b\\d+:\\d+\\.\\d+\\b', tied).group(0)\n",
    "    return convertTime(ret) if convert else ret"
   ]
  },
  {
   "cell_type": "code",
   "execution_count": 22,
   "id": "c7ddce06",
   "metadata": {},
   "outputs": [],
   "source": [
    "def addPBP(df,game):\n",
    "    full = df.copy()\n",
    "    col = f'g{game}'\n",
    "    labels = [f'tie{game}',f'leads{game}',f'tied{game}',f'homeLed{game}',f'awayLed{game}']\n",
    "    funcs = [ties,leads,tied,homeLed,awayLed]\n",
    "    for i in range(len(funcs)):\n",
    "        full.insert(full.columns.get_loc(col)+i+1, labels[i], full[col].apply(funcs[i]))\n",
    "    return full"
   ]
  },
  {
   "cell_type": "code",
   "execution_count": 23,
   "id": "8d1b3e4b",
   "metadata": {},
   "outputs": [],
   "source": [
    "def seriesName(string):\n",
    "    dictionary = {\n",
    "        'Eastern Conf First Round' : 'R1',\n",
    "        'Western Conf First Round' : 'R1',\n",
    "        'Eastern Conf Semifinals' : 'R2',\n",
    "        'Western Conf Semifinals' : 'R2',\n",
    "        'Eastern Conf Finals' : 'ECF',\n",
    "        'Western Conf Finals' : 'WCF',\n",
    "        'Finals' : 'Finals'\n",
    "    }\n",
    "    return dictionary[string]"
   ]
  },
  {
   "cell_type": "code",
   "execution_count": 24,
   "id": "55668d17",
   "metadata": {},
   "outputs": [],
   "source": [
    "def zCol(df,col,label,neg=False,drop=False):\n",
    "    newCol = df.apply(lambda row: (row[col] - df[col].mean())/df[col].std(), axis=1)\n",
    "    df.insert(df.columns.get_loc(col)+1, label,newCol)\n",
    "    df.drop(columns=[label]) if drop else True\n",
    "    if neg:\n",
    "        df[label] = -df[label]\n",
    "    return df"
   ]
  },
  {
   "cell_type": "code",
   "execution_count": 25,
   "id": "6054a139",
   "metadata": {},
   "outputs": [],
   "source": [
    "def analytic(df,indexCol,cols,weights,label):\n",
    "    base = pd.DataFrame()\n",
    "    base['0'] = [0] * 60\n",
    "    for i in range(len(weights)):\n",
    "        base['0'] = base['0'] + df[cols[i]]*weights[i]\n",
    "    base['0'] = -base['0']\n",
    "    df.insert(df.columns.get_loc(indexCol)+1, label,base['0'])\n",
    "    return df"
   ]
  }
 ],
 "metadata": {
  "kernelspec": {
   "display_name": "Python 3 (ipykernel)",
   "language": "python",
   "name": "python3"
  },
  "language_info": {
   "codemirror_mode": {
    "name": "ipython",
    "version": 3
   },
   "file_extension": ".py",
   "mimetype": "text/x-python",
   "name": "python",
   "nbconvert_exporter": "python",
   "pygments_lexer": "ipython3",
   "version": "3.10.9"
  }
 },
 "nbformat": 4,
 "nbformat_minor": 5
}
